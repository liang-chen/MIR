{
 "cells": [
  {
   "cell_type": "markdown",
   "metadata": {},
   "source": [
    "Zero Crossings\n",
    "---------------"
   ]
  },
  {
   "cell_type": "markdown",
   "metadata": {},
   "source": [
    "References\n",
    "----------\n",
    "\n",
    "- Sethares, William A. Tuning, timbre, spectrum, scale. Springer Science & Business Media, 2005. [link](https://books.google.com/books?id=wgoPicjjy6gC&pg=PA391&lpg=PA391&dq=sensory+dissonance+sethares&source=bl&ots=JxTCv9nnU0&sig=0KOldqXCGDU1S0B8YeQBe6F0WIM&hl=en&sa=X&ved=0ahUKEwjv-qm-rOrNAhXh6oMKHUGjAhIQ6AEIVzAJ#v=onepage&q=sensory%20dissonance%20sethares&f=false)\n",
    "- Collins, Nick. \"Influence in Early Electronic Dance Music: An Audio Content Analysis Investigation.\" ISMIR. 2012.\n",
    "- Stowell, Dan, and Mark D. Plumbley. \"Timbre remapping through a regression-tree technique.\" Sound and Music Computing (SMC) (2010).\n",
    "- Peeters, Geoffroy. \"A large set of audio features for sound description (similarity and classification) in the CUIDADO project.\" (2004). Found it [here](http://recherche.ircam.fr/anasyn/peeters/ARTICLES/Peeters_2003_cuidadoaudiofeatures.pdf)\n",
    "- CMU [slides](http://www.speech.cs.cmu.edu/15-492/slides/03_mfcc.pdf) on Cepstrum and MFCC by Kishore Prahallad\n",
    "- Muda, Lindasalwa, Mumtaj Begam, and I. Elamvazuthi. \"Voice recognition algorithms using mel frequency cepstral coefficient (MFCC) and dynamic time warping (DTW) techniques.\" arXiv preprint arXiv:1003.4083 (2010). [link](https://arxiv.org/pdf/1003.4083.pdf)"
   ]
  },
  {
   "cell_type": "markdown",
   "metadata": {},
   "source": [
    "RMS\n",
    "----"
   ]
  },
  {
   "cell_type": "markdown",
   "metadata": {},
   "source": [
    "Spectral Power\n",
    "--------------"
   ]
  },
  {
   "cell_type": "markdown",
   "metadata": {},
   "source": [
    "Spectral Power Ratio\n",
    "--------------\n",
    "\n",
    "Can choose 5 log-spaced sub- bands (50–400, 400–800, 800–1600, 1600–3200, and 3200– 6400 Hz)"
   ]
  },
  {
   "cell_type": "markdown",
   "metadata": {},
   "source": [
    "Spectral Centroid\n",
    "------------------"
   ]
  },
  {
   "cell_type": "markdown",
   "metadata": {},
   "source": [
    "Spectral 95- and 25-percentiles\n",
    "--------------------------------\n",
    "Seen in literature: 0.25 an 0.95, or 0.8 and 0.95% energy"
   ]
  },
  {
   "cell_type": "markdown",
   "metadata": {},
   "source": [
    "Spectral Rolloff\n",
    "-----------------"
   ]
  },
  {
   "cell_type": "markdown",
   "metadata": {},
   "source": [
    "Spectral Crest Measure\n",
    "-----------"
   ]
  },
  {
   "cell_type": "markdown",
   "metadata": {},
   "source": [
    "Spectral Slope\n",
    "---------------"
   ]
  },
  {
   "cell_type": "markdown",
   "metadata": {},
   "source": [
    "Harmonicity\n",
    "-----------"
   ]
  },
  {
   "cell_type": "markdown",
   "metadata": {},
   "source": [
    "MFCC\n",
    "-----\n",
    "\n",
    "MFCCs combine consideration of aspects of human hearing (logarithmic frequency perception, the mel scale) \n",
    "and physics of musical instruments (these systems often have well defined overtones that are harmonic. They\n",
    "are commonly used for speech detection and concatenative synthesis of speech.\n",
    "\n",
    "Check pitch detection methods Python notebook for cepstrum analysis. Review: cepstrum analysis captures spectral envelope. How can we link this to the way the ear perceives sound? (Prahallad)\n",
    "\n",
    "** Mel-Frequency Analysis **\n",
    "- \"Human ear acts as a filter: only concentrates on certain frequency components\n",
    "- Filters are non-uniformly spaced on the frequency axis: more filters in the low frequency regions\" tha in the high frequency regions\n",
    "\n",
    "Lindasalwa: 7 steps to computing MFCC\n",
    "1. Pre-Emphasis: pass signal through a filter which emphasizes higher frequencies. $ Y(n) = X(n) - 0.95X(n-1)$\n",
    "2. Framing: take sequence of 2^n samples, typically N = 256\n",
    "3. Hamming windowing\n",
    "4. FFT\n",
    "5. Mel Filter Bank Processing: \"a set of triangular filters are used to compute a weighted sum of filter spectral components so that the output of the process approximates to a Mel scale\" (linear in below 1000 Hz and logarithmic above). \"Each filter's magnitude frequency response is triangular in shape and equal to unity at the centre frequency and decreases linearly to zero at the centre frequency of two adjacent filters. Then, each filter output is the sum of its filtered spectral components. After that the following equation is used to compute the Mel for a given frequency f in Hz: $ F(Mel) = [2595 * log_{10}(1 + f)700] $\n",
    "6. Discrete Cosine Transform: convert the log Mel spectrum into time domain using DCT. Result is called Mel Frequency Cepstrum Coefficient. \n",
    "7. Delta Energy and Delta Spectrum: analyze how MFCC frames change over time\n",
    "\n",
    "\n",
    "\n",
    "- Can calculate difference of beatwise chroma vectors to get \"a one-dimensional measure of harmonic change, where the summation process avoided issues with different absolute pitch centers (Collins)."
   ]
  },
  {
   "cell_type": "markdown",
   "metadata": {},
   "source": [
    "Perceptual Loudness\n",
    "-------------------"
   ]
  },
  {
   "cell_type": "markdown",
   "metadata": {},
   "source": [
    "Sensory Dissonance (Sethares Model)\n",
    "-----------------------------------\n",
    "When two sine waves are very close in frequency, their combination sounds pleasant to the ear: a pure tone with some beating. As the frequency difference between the two waves grows, the sense of roughness or dissonance grows, until the two are far enough apart that the ear perceives them as two separate pitches.\n",
    "\n",
    "Idea: measure dissonance by counting the beats. Experimental results show that beating at 20 to 30 hz is perceived as roughest. \n",
    "\n",
    "1. make all values of the signal nonnegative\n",
    "2. \"combined with a low-pass filter, this creates an envelope detector with an output that rides along the outer edge of the signal. The bandpass filter is tuned to have maximum response in frequencies where the beating is most critical.\" (Sethares, 48)\n",
    "\n",
    "\"LPF is a Remez filter with cutoff at 100 Hz and BPF (which influences the detailed shape of the output signal) was a second-order Butterworth filter with passband between 15 and 35 Hz.\" (Sethares, 49)\n",
    "\n",
    "More information is in the appendices, which are not available online."
   ]
  }
 ],
 "metadata": {
  "kernelspec": {
   "display_name": "Python 3",
   "language": "python",
   "name": "python3"
  },
  "language_info": {
   "codemirror_mode": {
    "name": "ipython",
    "version": 3
   },
   "file_extension": ".py",
   "mimetype": "text/x-python",
   "name": "python",
   "nbconvert_exporter": "python",
   "pygments_lexer": "ipython3",
   "version": "3.5.1"
  }
 },
 "nbformat": 4,
 "nbformat_minor": 0
}
